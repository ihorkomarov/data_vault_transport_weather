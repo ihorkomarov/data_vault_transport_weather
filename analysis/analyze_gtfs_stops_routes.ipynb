{
 "cells": [
  {
   "cell_type": "code",
   "execution_count": 1,
   "id": "6eb8a0ae",
   "metadata": {},
   "outputs": [],
   "source": [
    "import pandas as pd"
   ]
  },
  {
   "cell_type": "code",
   "execution_count": 2,
   "id": "30b9cc5e",
   "metadata": {},
   "outputs": [],
   "source": [
    "# Pfade zur entpackten GTFS-Datei\n",
    "stops_path = \"../data/raw/hvv_gtfs/stops.txt\"\n",
    "routes_path = \"../data/raw/hvv_gtfs/routes.txt\""
   ]
  },
  {
   "cell_type": "code",
   "execution_count": 3,
   "id": "02de1fac",
   "metadata": {},
   "outputs": [],
   "source": [
    "# Einlesen\n",
    "stops_df = pd.read_csv(stops_path)\n",
    "routes_df = pd.read_csv(routes_path)"
   ]
  },
  {
   "cell_type": "code",
   "execution_count": 4,
   "id": "4c6bd422",
   "metadata": {},
   "outputs": [
    {
     "name": "stdout",
     "output_type": "stream",
     "text": [
      "\n",
      "📍 Haltestellen (stops.txt):\n",
      "                   stop_id  stop_code                           stop_name  \\\n",
      "0   de:02000:11001::100001        NaN                HBF/Mönckebergstraße   \n",
      "1  de:02000:10002:4:100009        NaN                    Hauptbahnhof/ZOB   \n",
      "2   de:02000:10003::100011        NaN  U S Berliner Tor (Beim Strohhause)   \n",
      "3   de:02000:10005::100012        NaN                   Borgfelder Straße   \n",
      "4   de:02000:10010::100018        NaN                           Hübbesweg   \n",
      "\n",
      "   stop_desc   stop_lat   stop_lon  location_type  parent_station  \\\n",
      "0        NaN  53.551551  10.004332              0             NaN   \n",
      "1        NaN  53.552247  10.011292              0             NaN   \n",
      "2        NaN  53.553402  10.024153              0             NaN   \n",
      "3        NaN  53.554742  10.034461              0             NaN   \n",
      "4        NaN  53.554607  10.061137              0             NaN   \n",
      "\n",
      "   wheelchair_boarding platform_code  \n",
      "0                    0           NaN  \n",
      "1                    0           NaN  \n",
      "2                    0           NaN  \n",
      "3                    0           NaN  \n",
      "4                    0           NaN  \n",
      "\n",
      "🛤️ Linien (routes.txt):\n",
      "  route_id  agency_id route_short_name  \\\n",
      "0  12976_3        106             4607   \n",
      "1  12972_3        106             2726   \n",
      "2  12971_3        106             2725   \n",
      "3  12970_3        106             2724   \n",
      "4  12969_3        106             2723   \n",
      "\n",
      "                                     route_long_name  route_type route_color  \\\n",
      "0                  Mienenbüttel - Elstorf - Nenndorf           3         NaN   \n",
      "1  Ahlerstedt - Hedendorf - Jork - (Anschluss nac...           3         NaN   \n",
      "2  Kutenholz - Fredenbeck - Horneburg - Buxtehude...           3         NaN   \n",
      "3  Wiegersen - Sauensiek - Apensen - Buxtehude - ...           3         NaN   \n",
      "4                   Buxtehude - Hove -  Finkenwerder           3         NaN   \n",
      "\n",
      "  route_text_color  route_desc  \n",
      "0              NaN         NaN  \n",
      "1              NaN         NaN  \n",
      "2              NaN         NaN  \n",
      "3              NaN         NaN  \n",
      "4              NaN         NaN  \n",
      "\n",
      "📍 Stops Spalten: ['stop_id', 'stop_code', 'stop_name', 'stop_desc', 'stop_lat', 'stop_lon', 'location_type', 'parent_station', 'wheelchair_boarding', 'platform_code']\n",
      "🛤️ Routes Spalten: ['route_id', 'agency_id', 'route_short_name', 'route_long_name', 'route_type', 'route_color', 'route_text_color', 'route_desc']\n"
     ]
    }
   ],
   "source": [
    "# Vorschau anzeigen\n",
    "print(\"\\n📍 Haltestellen (stops.txt):\")\n",
    "print(stops_df.head())\n",
    "\n",
    "print(\"\\n🛤️ Linien (routes.txt):\")\n",
    "print(routes_df.head())\n",
    "\n",
    "# Spalten anzeigen\n",
    "print(\"\\n📍 Stops Spalten:\", list(stops_df.columns))\n",
    "print(\"🛤️ Routes Spalten:\", list(routes_df.columns))"
   ]
  }
 ],
 "metadata": {
  "kernelspec": {
   "display_name": ".venv",
   "language": "python",
   "name": "python3"
  },
  "language_info": {
   "codemirror_mode": {
    "name": "ipython",
    "version": 3
   },
   "file_extension": ".py",
   "mimetype": "text/x-python",
   "name": "python",
   "nbconvert_exporter": "python",
   "pygments_lexer": "ipython3",
   "version": "3.12.4"
  }
 },
 "nbformat": 4,
 "nbformat_minor": 5
}
